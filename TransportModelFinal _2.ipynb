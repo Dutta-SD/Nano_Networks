{
 "cells": [
  {
   "cell_type": "markdown",
   "metadata": {
    "lines_to_next_cell": 0
   },
   "source": [
    "# 3 Lane 2 motor flow \n",
    "\n",
    "## 2 hops for both motor, can hop over each other\n",
    "In this notebook we model 3 channel flow model\n",
    "\n",
    "The code is mostly the same as the previous one, only `canHopForwardSameChannel` and `canHopToOtherChannel` are changed, so that they check not the entire track but only the final position where the particle can jump.\n",
    "\n",
    "<hr>\n",
    "\n",
    "Also a rate of 5 epochs for particle A and 3 epochs for particle B(ie one particle A per % epochs and one particle B per 3 epochs is used)"
   ]
  },
  {
   "cell_type": "markdown",
   "metadata": {},
   "source": [
    "## Track Description\n",
    "We take the size of the model to be 3 x 1000, 3 channels and 1000 lattice sites per channel"
   ]
  },
  {
   "cell_type": "code",
   "execution_count": 1,
   "metadata": {
    "lines_to_next_cell": 2
   },
   "outputs": [],
   "source": [
    "numRows = 3\n",
    "numColumns = 1000"
   ]
  },
  {
   "cell_type": "code",
   "execution_count": 2,
   "metadata": {},
   "outputs": [],
   "source": [
    "import numpy as np\n",
    "from random import random"
   ]
  },
  {
   "cell_type": "markdown",
   "metadata": {},
   "source": [
    "## Add Queue for each site\n",
    "\n",
    "Matrix for keeping each queue\n",
    "For getting a particular queue we will use `queue[channel number][site number]`"
   ]
  },
  {
   "cell_type": "code",
   "execution_count": 3,
   "metadata": {
    "lines_to_next_cell": 2
   },
   "outputs": [],
   "source": [
    "from collections import deque"
   ]
  },
  {
   "cell_type": "code",
   "execution_count": 4,
   "metadata": {
    "lines_to_next_cell": 2
   },
   "outputs": [],
   "source": [
    "queue = [ [None] * numColumns] * numRows"
   ]
  },
  {
   "cell_type": "code",
   "execution_count": 5,
   "metadata": {},
   "outputs": [],
   "source": [
    "for i in range(numRows):\n",
    "    for j in range(numColumns):\n",
    "        queue[i][j] = deque()"
   ]
  },
  {
   "cell_type": "markdown",
   "metadata": {},
   "source": [
    "## Set the motor types and various motor parameters\n",
    "1. Set the motor types"
   ]
  },
  {
   "cell_type": "code",
   "execution_count": 6,
   "metadata": {
    "lines_to_next_cell": 1
   },
   "outputs": [],
   "source": [
    "motorA = 1\n",
    "motorB = 2\n",
    "vacancy = 0"
   ]
  },
  {
   "cell_type": "markdown",
   "metadata": {},
   "source": [
    "## Hop of Motor for Both is 2, this time they can hop over each other"
   ]
  },
  {
   "cell_type": "code",
   "execution_count": 7,
   "metadata": {
    "lines_to_next_cell": 1
   },
   "outputs": [],
   "source": [
    "def hopOf(motorType):\n",
    "    if motorType == motorA:\n",
    "        return 2  # Hop of motor A\n",
    "    return 2    # Hop of motor B    "
   ]
  },
  {
   "cell_type": "markdown",
   "metadata": {
    "lines_to_next_cell": 0
   },
   "source": [
    "### Utility Functions\n",
    "Note : `currentPosition = (currentChannel, currentSite)`"
   ]
  },
  {
   "cell_type": "markdown",
   "metadata": {},
   "source": [
    "1. `canHopForwardSameChannel` : Function to check if motor can jump to forward site"
   ]
  },
  {
   "cell_type": "code",
   "execution_count": 8,
   "metadata": {
    "lines_to_next_cell": 1
   },
   "outputs": [],
   "source": [
    "def canHopForwardSameChannel(currentPosition):\n",
    "    # Returns False if any position infront is occupied\n",
    "    ## Version 2- can hop over, so need to see if final position is empty only\n",
    "    val = not track[currentPosition[0],\n",
    "                    currentPosition[1] + hopOf(track[currentPosition])]\n",
    "    return val"
   ]
  },
  {
   "cell_type": "markdown",
   "metadata": {},
   "source": [
    "2. `canHopToOtherChannel` : Function to check if hop to other channel or not"
   ]
  },
  {
   "cell_type": "code",
   "execution_count": 9,
   "metadata": {
    "lines_to_next_cell": 1
   },
   "outputs": [],
   "source": [
    "def canHopToOtherChannel(currentPosition):\n",
    "    # Returns True if can Hop to other channel\n",
    "    #### Checks only final position as jumping allowed\n",
    "    \n",
    "    jumpChannels = [0, 1, 2]\n",
    "    jumpChannels.remove(currentPosition[0]) # Remove current channel\n",
    "    \n",
    "    finalSite = currentPosition[1] + hopOf(track[currentPosition])  # Final site\n",
    "    \n",
    "    c1, c2 = jumpChannels   # Channels to jump into\n",
    "    \n",
    "    channel1 = track[c1, finalSite]   # Is any in slice occupied?\n",
    "    channel2 = track[c2, finalSite]   #is any in slice occupied \n",
    "    return not(channel1 or channel2)"
   ]
  },
  {
   "cell_type": "markdown",
   "metadata": {},
   "source": [
    "3. `getFinalPosition` : Function to determine the final jump position of the motor"
   ]
  },
  {
   "cell_type": "code",
   "execution_count": 10,
   "metadata": {},
   "outputs": [],
   "source": [
    "from numpy.random import permutation"
   ]
  },
  {
   "cell_type": "code",
   "execution_count": 11,
   "metadata": {
    "lines_to_next_cell": 1
   },
   "outputs": [],
   "source": [
    "def getFinalPosition(currentPosition, sameChannel = True):\n",
    "    \n",
    "    # print(\"get final position\")\n",
    "    \n",
    "    finalSite = currentPosition[1] + hopOf(track[currentPosition])\n",
    "    \n",
    "    if finalSite >= numColumns:     # Send 'Exit' if particle can get out of track\n",
    "        return \"Exit\"\n",
    "    else:\n",
    "        if sameChannel:\n",
    "            return (currentPosition[0], finalSite)    # Final position for Same Channel\n",
    "        else:\n",
    "            jumpChannels = [0, 1, 2]\n",
    "            jumpChannels.remove(currentPosition[0])    # Remove the current channel\n",
    "    \n",
    "            c1, c2 = permutation(jumpChannels)\n",
    "            if not track[c1, finalSite]:\n",
    "                return (c1, finalSite)\n",
    "            else:\n",
    "                return (c2, finalSite)"
   ]
  },
  {
   "cell_type": "markdown",
   "metadata": {},
   "source": [
    "4. `jump` : Conducts the jump between _source_ and _destination_. If particle goes out, it discards it"
   ]
  },
  {
   "cell_type": "code",
   "execution_count": 12,
   "metadata": {
    "lines_to_next_cell": 1
   },
   "outputs": [],
   "source": [
    "def jump(source, destination):\n",
    "    \n",
    "    if destination == 'Exit':\n",
    "        track[source] = vacancy\n",
    "        return          # If can exit, throw motor out\n",
    "    \n",
    "    track[source], track[destination] = track[destination], track[source]"
   ]
  },
  {
   "cell_type": "markdown",
   "metadata": {},
   "source": [
    "5. `step` : Takes the step for the motor. Whether to hopForward or change Channel or to go in Queue"
   ]
  },
  {
   "cell_type": "code",
   "execution_count": 13,
   "metadata": {
    "lines_to_next_cell": 1
   },
   "outputs": [],
   "source": [
    "def step(currentPosition):\n",
    "    if canHopForwardSameChannel(currentPosition):    # Go forward\n",
    "        \n",
    "        finalPosition = getFinalPosition(currentPosition)\n",
    "        jump(currentPosition, finalPosition)\n",
    "        \n",
    "    elif canHopToOtherChannel(currentPosition):      # If obstacle, try to change lane\n",
    "        \n",
    "        finalPosition = getFinalPosition(currentPosition, sameChannel = False)\n",
    "        jump(currentPosition, finalPosition)       \n",
    "        \n",
    "    else:\n",
    "        queue[currentPosition[0]][currentPosition[1]].append(track[currentPosition])    # In nothing happens, go in queue and wait for your turn\n",
    "        track[currentPosition] = vacancy\n",
    "        # print(f\"Final track Position value:{track[currentPosition]}\")   # <!-- Should give a value of 0 -->"
   ]
  },
  {
   "cell_type": "markdown",
   "metadata": {},
   "source": [
    "6. `queueStep` : Takes the step for the queued motors"
   ]
  },
  {
   "cell_type": "code",
   "execution_count": 14,
   "metadata": {},
   "outputs": [],
   "source": [
    "from random import shuffle"
   ]
  },
  {
   "cell_type": "code",
   "execution_count": 15,
   "metadata": {},
   "outputs": [],
   "source": [
    "# Function to pop out elements and put it in place, assuming legal jump allowed\n",
    "def queueToChannel(currPosition, channelToMove):\n",
    "    motor_value = queue[currPosition[0]][currPosition[1]][0]\n",
    "    finalPosition = currPosition[1] + hopOf(motor_value)   # get final position motor can jump to\n",
    "    if finalPosition < numColumns:\n",
    "        motor = queue[currPosition[0]][currPosition[1]].popleft()  # Get motor    \n",
    "        track[channelToMove, finalPosition] = motor  # Put motor in place\n",
    "    return"
   ]
  },
  {
   "cell_type": "code",
   "execution_count": 16,
   "metadata": {},
   "outputs": [],
   "source": [
    "# queue to current site but different channel move\n",
    "# Return True if changed here\n",
    "def queueToSameSite(currPosition, same_channel, lateral_channel):\n",
    "    channels = [0, 1, 2]         # All channels    \n",
    "    c1, c2, c3 = permutation(channels)    # Put in c1, c2, c3\n",
    "    finalSite = currPosition[1]\n",
    "    \n",
    "    currentChannel = currPosition[0]     # get current channel\n",
    "    \n",
    "    p = random()    # For random channel selection\n",
    "\n",
    "    if track[c1, finalSite] == 0:    # Check if can go to channel 1\n",
    "        threshold = same_channel if (c1 == currentChannel) else lateral_channel\n",
    "        if p > threshold:\n",
    "            track[c1, finalSite] = queue[currPosition[0]][currPosition[1]].popleft()\n",
    "            return True\n",
    "\n",
    "    elif track[c2, finalSite] == 0:    # Check if can go to channel 2\n",
    "        threshold = same_channel if (c2 == currentChannel) else lateral_channel\n",
    "        if p > threshold:\n",
    "            track[c2, finalSite] = queue[currPosition[0]][currPosition[1]].popleft()\n",
    "            return True\n",
    "\n",
    "    elif track[c3, finalSite] == 0:    # Check if can go to channel 3\n",
    "        threshold = same_channel if (c3 == currentChannel) else lateral_channel\n",
    "        if p > threshold:\n",
    "            track[c3, finalSite] = queue[currPosition[0]][currPosition[1]].popleft()\n",
    "            return True\n",
    "\n",
    "    return False    # Executed if None of this is possible"
   ]
  },
  {
   "cell_type": "code",
   "execution_count": 17,
   "metadata": {
    "lines_to_next_cell": 1
   },
   "outputs": [],
   "source": [
    "# Action for elements in queue\n",
    "def queueStep(currChannel, currSite):\n",
    "    lateral_channel = 0.45\n",
    "    same_channel = 0.55\n",
    "    \n",
    "    currPosition = (currChannel, currSite)  # Curent Position\n",
    "    \n",
    "    # Same site, different channel movement, if True return\n",
    "    if queueToSameSite(currPosition, same_channel, lateral_channel): return  \n",
    "\n",
    "    # If hop forward in same or different channel\n",
    "    channels = [0, 1, 2]         # All channels\n",
    "    \n",
    "    c1, c2, c3 = permutation(channels)    # Put in c1, c2, c3\n",
    "\n",
    "    motorToExitType = queue[currChannel][currSite][0]\n",
    "    finalSite = currSite  + hopOf(motorToExitType)  # final position after jump\n",
    "    \n",
    "    p = random()    # Generate a random number\n",
    "\n",
    "    if finalSite < numColumns:   #Checks if exiting or not\n",
    "        if not any(track[c1, currSite + 1  : finalSite + 1]):\n",
    "            threshold = same_channel if (c1 == currChannel) else lateral_channel\n",
    "            if p > threshold:\n",
    "                queueToChannel(currPosition, c1)\n",
    "                return \n",
    "\n",
    "        elif not any(track[c2, currSite+1 : finalSite + 1]):    # Check if can go to channel 2\n",
    "            threshold = same_channel if (c1 == currChannel) else lateral_channel\n",
    "            if p > threshold:\n",
    "                queueToChannel(currPosition, c2)\n",
    "                return\n",
    "\n",
    "        elif not any(track[c3, currSite+1 : finalSite + 1]):    # Check if can go to channel 3\n",
    "            threshold = same_channel if (c1 == currChannel) else lateral_channel\n",
    "            if p > threshold:\n",
    "                queueToChannel(currPosition, c3)\n",
    "                return"
   ]
  },
  {
   "cell_type": "markdown",
   "metadata": {},
   "source": [
    "## Simulation Codes"
   ]
  },
  {
   "cell_type": "code",
   "execution_count": 18,
   "metadata": {},
   "outputs": [],
   "source": [
    "from random import choice"
   ]
  },
  {
   "cell_type": "code",
   "execution_count": 19,
   "metadata": {},
   "outputs": [],
   "source": [
    "def putInTrack(motorType):\n",
    "    # Put motor of motorType in the track\n",
    "    rows = permutation([0, 1, 2])\n",
    "    for row in rows:\n",
    "        if track[row][0] == vacancy:\n",
    "            track[row][0] = motorType\n",
    "            break   "
   ]
  },
  {
   "cell_type": "code",
   "execution_count": 21,
   "metadata": {},
   "outputs": [],
   "source": [
    "'''\n",
    "####<!-- This code was used in the previous version to first fill the entire track with particles and then run the simulation -->\n",
    "#-----------------------------------------------------------------------------------------------------------------------------------\n",
    "    count_a = count_a  \n",
    "    count_b = count_b    \n",
    "    \n",
    "    while True:    # Till the track is filled\n",
    "        \n",
    "        if count_a > 0 and count_b > 0:       # If both have valid number of motors to input\n",
    "            motorType, channel, site = choice([motorA, motorB]), choice(range(numRows)), choice(range(numColumns))\n",
    "        elif count_a == 0:\n",
    "            if count_b > 0:\n",
    "                motorType, channel, site = motorB, choice(range(numRows)), choice(range(numColumns))  # if no a, do b\n",
    "            else: break\n",
    "        elif count_b == 0:\n",
    "            if count_a > 0:\n",
    "                motorType, channel, site = motorA, choice(range(numRows)), choice(range(numColumns)) # if no b, do a\n",
    "            else: break       \n",
    "        \n",
    "        if track[channel, site] == vacancy:    # If empty, fill\n",
    "            track[channel, site] = motorType\n",
    "            if motorType == motorA:    # reduce_Count_of_variables\n",
    "                count_a -= 1\n",
    "            else:\n",
    "                count_b -= 1\n",
    "                \n",
    "    print(f\"#Remaining a : {count_a}, #Remaining b : {count_b}\")   # If correct, should be 0 for bot''';"
   ]
  },
  {
   "cell_type": "code",
   "execution_count": 22,
   "metadata": {
    "lines_to_next_cell": 1
   },
   "outputs": [],
   "source": [
    "# Get count of all motors of a particular type in the track\n",
    "def count_motor():\n",
    "    return np.bincount(np.ravel(track))    # returned value is [#vacancy, #motorA, #motorB], extract with respective indexes"
   ]
  },
  {
   "cell_type": "code",
   "execution_count": 23,
   "metadata": {},
   "outputs": [],
   "source": [
    "import matplotlib.pyplot as plt\n",
    "import os\n",
    "import PIL\n",
    "%matplotlib inline"
   ]
  },
  {
   "cell_type": "markdown",
   "metadata": {},
   "source": [
    "## Fill track\n",
    "Particles were added as per their rate here"
   ]
  },
  {
   "cell_type": "code",
   "execution_count": 25,
   "metadata": {
    "lines_to_next_cell": 2,
    "tags": []
   },
   "outputs": [],
   "source": [
    "\n",
    "'''# we will take the model to be 3x1000 matrices\n",
    "\n",
    "\n",
    "# Let us fill the track\n",
    "fillTrack(200, 200)\n",
    "\n",
    "print(\"Initial:\" ,count_motor())\n",
    "''';"
   ]
  },
  {
   "cell_type": "code",
   "execution_count": 26,
   "metadata": {},
   "outputs": [],
   "source": [
    "from random import random"
   ]
  },
  {
   "cell_type": "markdown",
   "metadata": {},
   "source": [
    "### I have commented out the section dealing with plotting as it is taking lot of time to run"
   ]
  },
  {
   "cell_type": "code",
   "execution_count": 27,
   "metadata": {},
   "outputs": [],
   "source": [
    "def simulate_model(n_epochs):\n",
    "    # Simulates the entire workflow\n",
    "    # Make movements\n",
    "    for epoch in range(n_epochs):\n",
    "        \n",
    "        for site in range(numColumns-1, -1, -1):  \n",
    "            for channel in range(numRows):\n",
    "                \n",
    "                if track[channel, site] == 0:          # If we have empty track, then try dequeing\n",
    "                    if len(queue[channel][site]) !=  0:\n",
    "                        queueStep(channel, site)        # If nonempty queue, deque\n",
    "                \n",
    "                else:\n",
    "                    step((channel, site))             # If we have any motor, take a step. Going into queue is taken care of here\n",
    "                    \n",
    "        if (epoch % 5 == 0): putInTrack(1)  ## Put motors as per their rate\n",
    "        if (epoch % 3 == 0): putInTrack(2)       \n",
    "        \n",
    "        \n",
    "        #------------------------------------------------------\n",
    "        #  Plotting of the Track\n",
    "        #------------------------------------------------------\n",
    "        \n",
    "        # Add Image Path\n",
    "        '''\n",
    "        path = './Images_both_side/'\n",
    "        folder_name = 'Images_both_side'\n",
    "        if not folder_name in os.listdir():\n",
    "            os.mkdir(\"Images_both_side\")\n",
    "\n",
    "        # Add functionalities\n",
    "        plt.title(\"Track\")\n",
    "        plt.xlabel(\"Lattice Site\")\n",
    "        plt.ylabel(\"Channel\")\n",
    "        plt.yticks([0, 1, 2])\n",
    "        plt.pcolormesh(track, cmap = 'Blues')\n",
    "        plt.savefig(path + \"track_\" + str(epoch) + \".png\")\n",
    "        '''\n",
    "        \n",
    "        # verification\n",
    "        if epoch % 100 == 0: print(count_motor())"
   ]
  },
  {
   "cell_type": "markdown",
   "metadata": {},
   "source": [
    "### Generate GIF and Create `pcolor` plots"
   ]
  },
  {
   "cell_type": "code",
   "execution_count": 31,
   "metadata": {
    "scrolled": false,
    "tags": []
   },
   "outputs": [
    {
     "name": "stdout",
     "output_type": "stream",
     "text": [
      "[2998    1    1]\n",
      "[2945   21   34]\n",
      "[2892   41   67]\n",
      "[2838   61  101]\n",
      "[2785   81  134]\n",
      "6.559608166694641\n"
     ]
    },
    {
     "data": {
      "image/png": "[encoded data removed]",
      "text/plain": [
       "<Figure size 432x288 with 1 Axes>"
      ]
     },
     "metadata": {
      "needs_background": "light"
     },
     "output_type": "display_data"
    }
   ],
   "source": [
    "np.random.seed(0)\n",
    "track = np.zeros((numRows, numColumns), dtype = np.int8)  ### Track is our model on which we place motors\n",
    "\n",
    "from time import time\n",
    "n_epochs = 500    #### The model is ran for 500 epochs here, \n",
    "start = time()\n",
    "simulate_model(n_epochs)\n",
    "end=time()\n",
    "# Print run time\n",
    "print((end - start) / float(n_epochs))  ### Average time for one epoch"
   ]
  }
 ],
 "metadata": {
  "jupytext": {
   "cell_metadata_filter": "-all",
   "main_language": "python",
   "notebook_metadata_filter": "-all"
  },
  "kernelspec": {
   "display_name": "Python 3",
   "language": "python",
   "name": "python3"
  },
  "language_info": {
   "codemirror_mode": {
    "name": "ipython",
    "version": 3
   },
   "file_extension": ".py",
   "mimetype": "text/x-python",
   "name": "python",
   "nbconvert_exporter": "python",
   "pygments_lexer": "ipython3",
   "version": "3.7.3"
  }
 },
 "nbformat": 4,
 "nbformat_minor": 4
}