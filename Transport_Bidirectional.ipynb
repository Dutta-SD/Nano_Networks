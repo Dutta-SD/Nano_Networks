{
 "cells": [
  {
   "cell_type": "markdown",
   "metadata": {
    "lines_to_next_cell": 0
   },
   "source": [
    "# 3 Lane 2 motor  bidirectional flow\n",
    "\n",
    "### @ Author - Sandip Dutta\n",
    "\n",
    "* 16 Oct, 2020 - changed track to nested list"
   ]
  },
  {
   "cell_type": "code",
   "execution_count": 1,
   "metadata": {},
   "outputs": [],
   "source": [
    "## Imports\n",
    "import numpy as np\n",
    "from random import random\n",
    "from numpy.random import permutation\n",
    "from random import shuffle\n",
    "from random import choice\n",
    "from collections import deque\n",
    "import matplotlib.pyplot as plt\n",
    "import os\n",
    "import PIL\n",
    "%matplotlib inline"
   ]
  },
  {
   "cell_type": "markdown",
   "metadata": {},
   "source": [
    "## Simulation Parameters (Global Variables)\n",
    "\n",
    "* Track Dimensions(numRows, numColumns) - 3 rows, 1000 columns [3 x 1000]\n",
    "* maxReservoirSize - 50\n",
    "* motorA, motorB - motor types\n",
    "* hopMotorA, hopMotorB - Jumps of the motors\n",
    "* rateMotorA, rateMotorB - Rate at which to put motors in track\n",
    "* forward, backward - motor moves forward or backward"
   ]
  },
  {
   "cell_type": "code",
   "execution_count": 2,
   "metadata": {
    "lines_to_next_cell": 2
   },
   "outputs": [],
   "source": [
    "## Track Parameters\n",
    "## numColumns set to 100, Please Change\n",
    "numRows = 3\n",
    "numColumns = 100\n",
    "\n",
    "## Motor Parameters\n",
    "motorA = 1\n",
    "motorB = 2\n",
    "vacancy = 0\n",
    "\n",
    "## motor hop rates\n",
    "hopMotorA = 1\n",
    "hopMotorB = 2\n",
    "\n",
    "## reservoir Size\n",
    "maxReservoirSize = 50\n",
    "\n",
    "## Rates of the motors\n",
    "rateMotorA = 5\n",
    "rateMotorB = 3\n",
    "\n",
    "## Direction of motor Flow\n",
    "forward = 1\n",
    "backward = -1"
   ]
  },
  {
   "cell_type": "markdown",
   "metadata": {},
   "source": [
    "## Add Reservoir for each portion of the track. "
   ]
  },
  {
   "cell_type": "code",
   "execution_count": 3,
   "metadata": {
    "lines_to_next_cell": 2
   },
   "outputs": [],
   "source": [
    "## Add reservoir in the form of queue for each site in the simulation track\n",
    "queue = [ [None] * numColumns] * numRows\n",
    "\n",
    "for i in range(numRows):\n",
    "    for j in range(numColumns):\n",
    "        queue[i][j] = deque(maxlen = maxReservoirSize)"
   ]
  },
  {
   "cell_type": "markdown",
   "metadata": {},
   "source": [
    "## Motor Class\n",
    "\n"
   ]
  },
  {
   "cell_type": "code",
   "execution_count": 4,
   "metadata": {},
   "outputs": [],
   "source": [
    "## Motor object class Decalration\n",
    "class Motor:\n",
    "    '''Declares motors, their hop and hop direction'''\n",
    "    \n",
    "    def __init__(self, motorType, direction):\n",
    "        '''\n",
    "        @ Args : \n",
    "        motorType ~ motorType of motor (motorA / motorB)\n",
    "        direction ~ forward / backward motor'''\n",
    "        \n",
    "        self.motorType = motorType\n",
    "        self.direction = direction\n",
    "        self.hop = self.hopOf(motorType) ## Negative direction means backward motor\n",
    "        \n",
    "    def __repr__(self):\n",
    "        '''Prints the string representation of the motor'''        \n",
    "        return str(self.motorType)\n",
    "    \n",
    "    def hopOf(self, motorType):\n",
    "        ''' Returns the hop of the motor'''\n",
    "        \n",
    "        if self.motorType == motorA:\n",
    "            return hopMotorA ## Hop of motor 1\n",
    "        return hopMotorB ## Hop of motor 2"
   ]
  },
  {
   "cell_type": "markdown",
   "metadata": {
    "lines_to_next_cell": 0
   },
   "source": [
    "## Utility Functions"
   ]
  },
  {
   "cell_type": "markdown",
   "metadata": {},
   "source": [
    "### 1. `canHopForwardSameChannel` : Function to check if motor can jump to forward site or backward site"
   ]
  },
  {
   "cell_type": "code",
   "execution_count": 5,
   "metadata": {
    "lines_to_next_cell": 1
   },
   "outputs": [],
   "source": [
    "def canHopForwardSameChannel(currentChannel, currentSite):\n",
    "    '''\n",
    "    @ Args:    \n",
    "    > currentChannel, currentSite : the position of the motor    \n",
    "    @ Return:    \n",
    "    > val : bool, denotes if motor can jump forward or not    \n",
    "        \n",
    "    If motor moves in the forward direction, then check places infront\n",
    "    Else check backward\n",
    "    '''    \n",
    "    currMotor = track[currentChannel][currentSite]  ## get current motor\n",
    "    \n",
    "    if currMotor == vacancy: # If no motor\n",
    "        return False\n",
    "    \n",
    "    if currMotor.direction == 1:   ## Forward moving motor \n",
    "        val = not any(\n",
    "            track[currentChannel][currentSite + 1 : currentSite + currMotor.hop + 1])\n",
    "        ## forawrd space is clear\n",
    "    else:\n",
    "      ## Reverse motor\n",
    "        val = not any(\n",
    "            track[currentChannel][currentSite - currMotor.hop : currentSite]) \n",
    "        ## Reverse space is clear\n",
    "    return val"
   ]
  },
  {
   "cell_type": "markdown",
   "metadata": {},
   "source": [
    "### 2. `canHopToOtherChannel` : Function to check if hop to other channel or not"
   ]
  },
  {
   "cell_type": "code",
   "execution_count": 6,
   "metadata": {
    "lines_to_next_cell": 1
   },
   "outputs": [],
   "source": [
    "def canHopToOtherChannel(currentChannel, currentSite):\n",
    "    '''\n",
    "    @ Args:    \n",
    "    > currentChannel, currentSite : the position of the motor    \n",
    "    @ Return:    \n",
    "    > bool, denotes if motor can jumo forward or not\n",
    "    \n",
    "    Check if motor can hop to other channel *directly* from current position.\n",
    "    '''    \n",
    "    currMotor = track[currentChannel][currentSite]  ### Get motor for current spot\n",
    "    \n",
    "    if currMotor == vacancy:\n",
    "        return False\n",
    "    \n",
    "    jumpChannels = [0, 1, 2]\n",
    "    jumpChannels.remove(currentChannel) # Remove current channel\n",
    "    \n",
    "    finalSite = currentSite + currMotor.hop * currMotor.direction ## direction sets backward or forward motion\n",
    "    \n",
    "    if finalSite >= numColumns or finalSite < 0:   ### Motor has the ability to jump out\n",
    "        return True # Can hop out => Move Ahead, so true  \n",
    "    \n",
    "    c1, c2 = jumpChannels   # Channels to jump into after removing current position\n",
    "    \n",
    "    channel1 = track[c1][finalSite]  ## We assume that to jump to other channel, we need not check anything in between \n",
    "    channel2 = track[c2][finalSite]    \n",
    "    return not(channel1 or channel2)"
   ]
  },
  {
   "cell_type": "markdown",
   "metadata": {},
   "source": [
    "### 3. `getFinalPosition` : Function to determine the final jump position of the motor"
   ]
  },
  {
   "cell_type": "code",
   "execution_count": 7,
   "metadata": {
    "lines_to_next_cell": 1
   },
   "outputs": [],
   "source": [
    "def getFinalPosition(currentChannel, currentSite, sameChannel = True):\n",
    "    '''\n",
    "    @Args : \n",
    "    > currentChannel, currentSite : the position of the motor\n",
    "    > sameChannel - if final position in same channel or different channel wanted\n",
    "    @Return :\n",
    "    > final position of the motor(int) or \"Exit\" - a special code denoting if motor needs to exit or not\n",
    "    \n",
    "    Gets the final position of the motor. Also determine if motor will exit or not\n",
    "    '''    \n",
    "    currMotor = track[currentChannel][currentSite]\n",
    "    \n",
    "    if currMotor == vacancy: return False   ### No motor, no hop\n",
    "    \n",
    "    finalSite = currentSite + currMotor.hop * currMotor.direction\n",
    "    \n",
    "    if finalSite >= numColumns or finalSite < 0:     # Send 'Exit' if particle can get out of track\n",
    "        return \"Exit\"\n",
    "    else:\n",
    "        if sameChannel:\n",
    "            return (currentChannel, finalSite)    # Final position for Same Channel\n",
    "        else:\n",
    "            jumpChannels = [0, 1, 2]\n",
    "            jumpChannels.remove(currentChannel)    # Remove the current channel\n",
    "    \n",
    "            c1, c2 = permutation(jumpChannels)  ## Randomly permute the Channels\n",
    "            if not track[c1][finalSite]:\n",
    "                return (c1, finalSite)\n",
    "            else:\n",
    "                return (c2, finalSite)"
   ]
  },
  {
   "cell_type": "markdown",
   "metadata": {},
   "source": [
    "### 4. `jump` : Conducts the jump between _source_ and _destination_. If particle goes out, it discards it"
   ]
  },
  {
   "cell_type": "code",
   "execution_count": 8,
   "metadata": {
    "lines_to_next_cell": 1
   },
   "outputs": [],
   "source": [
    "def jump(sourceChannel, sourceSite, destination):\n",
    "    '''\n",
    "    @ Args:\n",
    "    > source - starting position of the motor\n",
    "    > destination - ending position of the motor,'Exit' if goes out, else tuple\n",
    "        containing final Channel to jump and final Site to jump to.\n",
    "    @ Return:\n",
    "    > None\n",
    "    \n",
    "    Conducts the jump between source and destination, if can Exit, throws motor out\n",
    "    '''    \n",
    "    if destination == 'Exit':\n",
    "        track[sourceChannel][sourceSite] = vacancy\n",
    "        return          # If can exit, throw motor out\n",
    "    \n",
    "    finalChannel, finalSite = destination    # If not exiting\n",
    "    \n",
    "    track[sourceChannel][sourceSite], track[finalChannel][finalSite] = (\n",
    "        track[finalChannel][finalSite],\n",
    "        track[sourceChannel][sourceSite]) ## Swaping <==> hopping"
   ]
  },
  {
   "cell_type": "markdown",
   "metadata": {},
   "source": [
    "### 5. `step` : Takes the step for the motor. Whether to hopForward or change Channel or to go in Queue"
   ]
  },
  {
   "cell_type": "code",
   "execution_count": 9,
   "metadata": {
    "lines_to_next_cell": 1
   },
   "outputs": [],
   "source": [
    "def step(currentChannel, currentSite):\n",
    "    '''\n",
    "    @ Args :\n",
    "    currentChannel, currentSite - current position of the particle\n",
    "    @ Return :\n",
    "    > None\n",
    "    \n",
    "    Takes the necessary action for the particle. Whether to hop forward or shift channel or go in reservoir\n",
    "    '''    \n",
    "    if track[currentChannel][currentSite] == vacancy:   ### If vacancy, do nothing\n",
    "        return\n",
    "    \n",
    "    if canHopForwardSameChannel(currentChannel, currentSite):    # Go forward\n",
    "        \n",
    "        finalPosition = getFinalPosition(currentChannel, currentSite)  ## Exit or final destination in tuple\n",
    "        jump(currentChannel, currentSite, finalPosition)  ## Jump to final position\n",
    "        \n",
    "    elif canHopToOtherChannel(currentChannel, currentSite):      # If obstacle, try to change lane\n",
    "        \n",
    "        finalPosition = getFinalPosition(currentChannel, currentSite, sameChannel = False)\n",
    "        jump(currentChannel, currentSite, finalPosition)       \n",
    "        \n",
    "    else: \n",
    "        queue[currentChannel][currentSite].append(track[currentChannel][currentSite])    \n",
    "                # In nothing happens, go in queue and wait for turn\n",
    "        track[currentChannel][currentSite] = vacancy  ## As motor in reservoir, make the position empty"
   ]
  },
  {
   "cell_type": "markdown",
   "metadata": {},
   "source": [
    "### 6. `queueStep` : Takes the step for the queued motors"
   ]
  },
  {
   "cell_type": "code",
   "execution_count": 10,
   "metadata": {},
   "outputs": [],
   "source": [
    "def queueToChannel(currentChannel, currentSite, channelToMove):\n",
    "    '''\n",
    "    @Args : \n",
    "    > currentChannel, currentSite - current Position of the motor\n",
    "    > channelToMove - The channel the motor will move into\n",
    "    \n",
    "    @Return :\n",
    "    > None\n",
    "    \n",
    "    Moves a motor from the reservoir to the main track. \n",
    "    We assume that a motor <!--cannot exit from the reservoir-->\n",
    "    '''    \n",
    "    motorToMove = queue[currentChannel][currentSite][0]   ### Motor which can be popped\n",
    "    \n",
    "    finalSite = currentSite + motorToMove.hop * motorToMove.direction   # get final site motor can jump to\n",
    "    \n",
    "    if not(finalSite >= numColumns and finalSite < 0): ### If stays in track\n",
    "        \n",
    "        motor = queue[currentChannel][currentSite].popleft()  # Get motor \n",
    "        track[channelToMove][finalSite] = motor  # Put motor in place"
   ]
  },
  {
   "cell_type": "markdown",
   "metadata": {},
   "source": [
    "### 7. `queueToSameSite` : Put motor from queue to same site but any channel in track"
   ]
  },
  {
   "cell_type": "code",
   "execution_count": 11,
   "metadata": {},
   "outputs": [],
   "source": [
    "def queueToSameSite(currentChannel, currentSite, same_channel, lateral_channel):\n",
    "    '''\n",
    "    @Args :\n",
    "    > currentChannel, currentSite - current Position of the track\n",
    "    > same_channel - Threshold value for saying in the same channel\n",
    "    > lateral_channel - Threshold value for going to other channel\n",
    "    @Return:\n",
    "    > True if successful, else False\n",
    "    \n",
    "    Puts a motor from reservoir to track. Motor can stay in the same site, but change channel\n",
    "    '''\n",
    "    \n",
    "    channels = [0, 1, 2]         # All channels\n",
    "    \n",
    "    finalSite = currentSite   ### Final site where the motor will end up\n",
    "    \n",
    "    p = random()    # For random channel selection\n",
    "\n",
    "    for channeltoMove in channels:\n",
    "        if track[channeltoMove][finalSite] == vacancy:    # Check if can go to channel\n",
    "\n",
    "            threshold = same_channel if (channeltoMove == currentChannel) else lateral_channel\n",
    "\n",
    "            if p > threshold:\n",
    "                track[channeltoMove][finalSite] = queue[currentChannel][currentSite].popleft()\n",
    "                return True\n",
    "\n",
    "    return False    # If None of this is possible"
   ]
  },
  {
   "cell_type": "markdown",
   "metadata": {
    "lines_to_next_cell": 1
   },
   "source": [
    "### 8. `queueStep` - Manages in and out from reservoir"
   ]
  },
  {
   "cell_type": "code",
   "execution_count": 12,
   "metadata": {
    "lines_to_next_cell": 1
   },
   "outputs": [],
   "source": [
    "def queueStep(currentChannel, currentSite):\n",
    "    '''\n",
    "    @ Args:\n",
    "    > currentChannel, currentSite : Current position from where we will pop out motor\n",
    "    @ Return:\n",
    "    > None\n",
    "    \n",
    "    Manages the movement of a motor from a reservoir to the main track'''\n",
    "    \n",
    "    lateral_channel = 0.45  ## Threshold values for channel change\n",
    "    same_channel = 0.55\n",
    "    \n",
    "    # Same site, different channel movement, if True return\n",
    "    if queueToSameSite(currentChannel, currentSite, same_channel, lateral_channel): \n",
    "        return  \n",
    "\n",
    "    # If HOP FORWARD in same or different channel, that is from reservoir to some site in front.\n",
    "    all_channels = permutation([0, 1, 2])        # Randomly permute\n",
    "\n",
    "    motorToEscape = queue[currentChannel][currentSite][0]   ### Motor to be moved\n",
    "    finalSite = currentSite  + motorToEscape.hop * motorToEscape.direction  # final position after jump\n",
    "    \n",
    "    p = random()    # Generate a random number\n",
    "    \n",
    "    for channel in all_channels:\n",
    "        if finalSite < numColumns and finalSite >= 0:   #Checks if exiting or not\n",
    "            if not any(track[channel][currentSite + 1  : finalSite + 1]):\n",
    "                threshold = same_channel if (channel == currentChannel) else lateral_channel\n",
    "                if p > threshold:\n",
    "                    queueToChannel(currentChannel, currentSite, channel)\n",
    "                    return"
   ]
  },
  {
   "cell_type": "markdown",
   "metadata": {},
   "source": [
    "## Simulation Codes"
   ]
  },
  {
   "cell_type": "code",
   "execution_count": 13,
   "metadata": {},
   "outputs": [],
   "source": [
    "def putInTrack(motor):\n",
    "    # Put motor of motorType in the track\n",
    "    \n",
    "    rows = permutation([0, 1, 2])\n",
    "\n",
    "    if motor.direction == forward:\n",
    "        for row in rows:\n",
    "            if track[row][0] == vacancy:\n",
    "                track[row][0] = motor\n",
    "                break\n",
    "            \n",
    "    else:\n",
    "        for row in rows:\n",
    "            if track[row][numColumns - 1] == vacancy:\n",
    "                track[row][numColumns - 1] = motor\n",
    "                break   "
   ]
  },
  {
   "cell_type": "code",
   "execution_count": 15,
   "metadata": {
    "lines_to_next_cell": 1
   },
   "outputs": [],
   "source": [
    "# Get count of all motors of a particular type in the track\n",
    "def count_motor():\n",
    "    counts = [0, 0, 0]\n",
    "    for i in range(numRows):\n",
    "        for j in range(numColumns):\n",
    "            if track[i][j] == vacancy:\n",
    "                counts[0] += 1\n",
    "            elif track[i][j].motorType == motorA:\n",
    "                counts[1] += 1\n",
    "            else:\n",
    "                counts[2] += 1\n",
    "    return counts    "
   ]
  },
  {
   "cell_type": "markdown",
   "metadata": {},
   "source": [
    "## Fill track\n",
    "Particles were added as per their rate here"
   ]
  },
  {
   "cell_type": "code",
   "execution_count": 17,
   "metadata": {},
   "outputs": [],
   "source": [
    "def getTrackToPlot(track):\n",
    "    track2plot = np.zeros((numRows, numColumns), dtype = np.uint8)\n",
    "    for i in range(numRows):\n",
    "        for j in range(numColumns):\n",
    "            if track[i][j] != vacancy:\n",
    "                track2plot[i][j] = track[i][j].motorType\n",
    "    return track2plot            "
   ]
  },
  {
   "cell_type": "markdown",
   "metadata": {},
   "source": [
    "## Bidirectional Flow Site Selector\n",
    "For bidirectional flow, if we update sites like 1000 -> 999 -> 998 ... then backward flowing motors will move for each iteration. So they will exit the track and the plot will come out to be unidirectinal flow."
   ]
  },
  {
   "cell_type": "code",
   "execution_count": 21,
   "metadata": {},
   "outputs": [],
   "source": [
    "def getSiteUpdations(numCols):\n",
    "    '''Get site updations list'''\n",
    "    # get list of values till half of numColumns\n",
    "    values_list = list(range(numCols // 2 + 1))\n",
    "    sites_visiting_list = []\n",
    "    \n",
    "    for i in range(numCols): # For all sites\n",
    "        if i % 2 == 0:\n",
    "            sites_visiting_list.append(values_list[i // 2]) \n",
    "            ## Add the values of values_list sequentially\n",
    "            ## At every even position            \n",
    "        else:\n",
    "            ## At every odd position, append numCols - 1 - last Appended Value\n",
    "            sites_visiting_list.append(numCols - 1 - sites_visiting_list[-1])\n",
    "    return sites_visiting_list"
   ]
  },
  {
   "cell_type": "markdown",
   "metadata": {},
   "source": [
    "### Plotting Utilities"
   ]
  },
  {
   "cell_type": "code",
   "execution_count": 40,
   "metadata": {},
   "outputs": [],
   "source": [
    "def plotTrack(epoch):\n",
    "    '''Plotting Utility'''\n",
    "    \n",
    "    path = './Images_Bidirectional/'\n",
    "    folder_name = 'Images_Bidirectional'\n",
    "    \n",
    "    if not folder_name in os.listdir():\n",
    "        os.mkdir(folder_name)\n",
    "\n",
    "    track2plot = getTrackToPlot(track) # Gets track in terms of numpy array\n",
    "    \n",
    "    # Add functionalities\n",
    "    \n",
    "    plt.title(\"Track\")\n",
    "    plt.xlabel(\"Lattice Site\")\n",
    "    plt.ylabel(\"Channel\")\n",
    "    plt.yticks([0, 1, 2])\n",
    "    plt.pcolormesh(track2plot, cmap = 'Blues')\n",
    "    plt.savefig(path + \"track_\" + str(epoch) + \".png\")"
   ]
  },
  {
   "cell_type": "code",
   "execution_count": 45,
   "metadata": {},
   "outputs": [],
   "source": [
    "def simulate_model(n_epochs):\n",
    "    # Simulates the entire workflow\n",
    "    # Make movements\n",
    "    sites_visiting_sequence = getSiteUpdations(numColumns) # get site visiting list\n",
    "    # print(sites_visiting_sequence)\n",
    "    \n",
    "    for epoch in range(n_epochs):\n",
    "        \n",
    "        for site in sites_visiting_sequence:  \n",
    "            for channel in range(numRows):\n",
    "                \n",
    "                if track[channel][site] == vacancy:          # If we have empty track, then try dequeing\n",
    "                    if len(queue[channel][site]) !=  0:\n",
    "                        queueStep(channel, site)        # If nonempty queue, deque\n",
    "                \n",
    "                else:\n",
    "                    step(channel, site)             # If we have any motor, take a step. Going into queue is taken care of here\n",
    "                    \n",
    "        if (epoch % rateMotorA == 0): putInTrack(Motor(motorA, forward))  ## Put motors as per their rate\n",
    "        if (epoch % rateMotorB == 0): putInTrack(Motor(motorB, forward))\n",
    "        if (epoch % rateMotorA == 0): putInTrack(Motor(motorA, backward))  ## Put motors as per their rate\n",
    "        if (epoch % rateMotorB == 0): putInTrack(Motor(motorB, backward)) \n",
    "        \n",
    "        \n",
    "        #------------------------------------------------------\n",
    "        #  Plotting of the Track\n",
    "        #------------------------------------------------------\n",
    "        plotTrack(epoch)\n",
    "        \n",
    "        \n",
    "        # verification\n",
    "        if epoch % 100 == 0: print(count_motor())"
   ]
  },
  {
   "cell_type": "markdown",
   "metadata": {},
   "source": [
    "### Generate GIF and Create `pcolor` plots"
   ]
  },
  {
   "cell_type": "code",
   "execution_count": 46,
   "metadata": {
    "scrolled": false,
    "tags": []
   },
   "outputs": [
    {
     "name": "stdout",
     "output_type": "stream",
     "text": [
      "[295, 2, 3]\n",
      "[262, 21, 17]\n",
      "[262, 21, 17]\n",
      "0.6830658642450969\n"
     ]
    },
    {
     "data": {
      "image/png": "[encoded data removed]",
      "text/plain": [
       "<Figure size 432x288 with 1 Axes>"
      ]
     },
     "metadata": {
      "needs_background": "light"
     },
     "output_type": "display_data"
    }
   ],
   "source": [
    "np.random.seed(0)\n",
    "track = np.array(\n",
    "    [[vacancy] * numColumns] * numRows,\n",
    "    dtype = object)### Track is our model on which we place motors\n",
    "\n",
    "from time import time\n",
    "n_epochs = 300    #### The model is ran for 500 epochs here, \n",
    "start = time()\n",
    "simulate_model(n_epochs)\n",
    "end=time()\n",
    "# Print run time\n",
    "print((end - start) / float(n_epochs))  ### Average time for one epoch"
   ]
  },
  {
   "cell_type": "code",
   "execution_count": null,
   "metadata": {},
   "outputs": [],
   "source": []
  }
 ],
 "metadata": {
  "jupytext": {
   "cell_metadata_filter": "-all",
   "main_language": "python",
   "notebook_metadata_filter": "-all"
  },
  "kernelspec": {
   "display_name": "Python 3",
   "language": "python",
   "name": "python3"
  },
  "language_info": {
   "codemirror_mode": {
    "name": "ipython",
    "version": 3
   },
   "file_extension": ".py",
   "mimetype": "text/x-python",
   "name": "python",
   "nbconvert_exporter": "python",
   "pygments_lexer": "ipython3",
   "version": "3.6.9"
  }
 },
 "nbformat": 4,
 "nbformat_minor": 4
}
