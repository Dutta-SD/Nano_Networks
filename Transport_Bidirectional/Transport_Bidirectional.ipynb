{
 "cells": [
  {
   "cell_type": "markdown",
   "metadata": {
    "lines_to_next_cell": 0
   },
   "source": [
    "# 3 Lane 2 motor  bidirectional flow\n",
    "\n",
    "### @ Author - Sandip Dutta"
   ]
  },
  {
   "cell_type": "code",
   "execution_count": 1,
   "metadata": {},
   "outputs": [],
   "source": [
    "## Imports\n",
    "import numpy as np\n",
    "from random import random\n",
    "from numpy.random import permutation\n",
    "from random import shuffle\n",
    "from random import choice\n",
    "from collections import deque\n",
    "import matplotlib.pyplot as plt\n",
    "import os\n",
    "import PIL\n",
    "%matplotlib inline"
   ]
  },
  {
   "cell_type": "markdown",
   "metadata": {},
   "source": [
    "## Simulation Parameters (Global Variables)\n",
    "\n",
    "* Track Dimensions(numRows, numColumns) - 3 rows, 1000 columns [3 x 1000]\n",
    "* maxReservoirSize - 50\n",
    "* motorA, motorB - motor types\n",
    "* hopMotorA, hopMotorB - Jumps of the motors\n",
    "* rateMotorA, rateMotorB - Rate at which to put motors in track\n",
    "* forward, backward - motor moves forward or backward"
   ]
  },
  {
   "cell_type": "code",
   "execution_count": 2,
   "metadata": {
    "lines_to_next_cell": 2
   },
   "outputs": [],
   "source": [
    "## Track Parameters\n",
    "numRows = 3\n",
    "numColumns = 50\n",
    "\n",
    "## Motor Parameters\n",
    "motorA = 1\n",
    "motorB = 2\n",
    "vacancy = 0\n",
    "\n",
    "## motor hop rates\n",
    "hopMotorA = 1\n",
    "hopMotorB = 2\n",
    "\n",
    "## reservoir Size\n",
    "maxReservoirSize = 50\n",
    "\n",
    "## Rates of the motors\n",
    "rateMotorA = 5\n",
    "rateMotorB = 3\n",
    "\n",
    "## Direction of motor Flow\n",
    "forward = 1\n",
    "backward = -1"
   ]
  },
  {
   "cell_type": "code",
   "execution_count": 3,
   "metadata": {},
   "outputs": [],
   "source": [
    "#### Setting the seed for everything\n",
    "np.random.seed(0)"
   ]
  },
  {
   "cell_type": "markdown",
   "metadata": {},
   "source": [
    "## Add Reservoir for each portion of the track. "
   ]
  },
  {
   "cell_type": "code",
   "execution_count": 4,
   "metadata": {
    "lines_to_next_cell": 2
   },
   "outputs": [],
   "source": [
    "## Add reservoir in the form of queue for each site in the simulation track\n",
    "queue = [ [None] * numColumns] * numRows\n",
    "\n",
    "for i in range(numRows):\n",
    "    for j in range(numColumns):\n",
    "        queue[i][j] = deque(maxlen = maxReservoirSize)"
   ]
  },
  {
   "cell_type": "markdown",
   "metadata": {},
   "source": [
    "## Motor Class\n",
    "\n"
   ]
  },
  {
   "cell_type": "code",
   "execution_count": 5,
   "metadata": {},
   "outputs": [],
   "source": [
    "## Motor object class Decalration\n",
    "class Motor:\n",
    "    '''Declares motors, their hop and hop direction'''\n",
    "    \n",
    "    def __init__(self, motorType, direction):\n",
    "        '''\n",
    "        @ Args : \n",
    "        motorType ~ motorType of motor (motorA / motorB)\n",
    "        direction ~ forward / backward motor'''\n",
    "        \n",
    "        self.motorType = motorType\n",
    "        self.direction = direction\n",
    "        self.hop = self.hopOf(motorType) ## Negative direction means backward motor\n",
    "        \n",
    "    def __repr__(self):\n",
    "        '''Prints the string representation of the motor'''        \n",
    "        return str(self.motorType)\n",
    "    \n",
    "    def hopOf(self, motorType):\n",
    "        ''' Returns the hop of the motor'''\n",
    "        \n",
    "        if self.motorType == motorA:\n",
    "            return hopMotorA ## Hop of motor 1\n",
    "        return hopMotorB ## Hop of motor 2"
   ]
  },
  {
   "cell_type": "markdown",
   "metadata": {
    "lines_to_next_cell": 0
   },
   "source": [
    "## Utility Functions"
   ]
  },
  {
   "cell_type": "markdown",
   "metadata": {},
   "source": [
    "### 1. `canHopForwardSameChannel` : Function to check if motor can jump to forward site or backward site"
   ]
  },
  {
   "cell_type": "code",
   "execution_count": 6,
   "metadata": {
    "lines_to_next_cell": 1
   },
   "outputs": [],
   "source": [
    "def canHopForwardSameChannel(currentChannel, currentSite):\n",
    "    '''\n",
    "    @ Args:    \n",
    "    > currentChannel, currentSite : the position of the motor    \n",
    "    @ Return:    \n",
    "    > val : bool, denotes if motor can jump forward or not    \n",
    "        \n",
    "    If motor moves in the forward direction, then check places infront\n",
    "    Else check backward\n",
    "    '''    \n",
    "    currMotor = track[currentChannel][currentSite]  ## get current motor\n",
    "    \n",
    "    if not isinstance(currMotor, Motor): return False   ### No motor, no hop\n",
    "    \n",
    "    if currMotor.direction == 1:   ## Forward moving motor \n",
    "        val = not any(\n",
    "            track[currentChannel][currentSite + 1 : currentSite + currMotor.hop + 1])\n",
    "        ## forawrd space is clear\n",
    "    else:\n",
    "      ## Reverse motor\n",
    "        val = not any(\n",
    "            track[currentChannel][currentSite - currMotor.hop : currentSite]) \n",
    "        ## Reverse space is clear\n",
    "    return val"
   ]
  },
  {
   "cell_type": "markdown",
   "metadata": {},
   "source": [
    "### 2. `canHopToOtherChannel` : Function to check if hop to other channel or not"
   ]
  },
  {
   "cell_type": "code",
   "execution_count": 7,
   "metadata": {
    "lines_to_next_cell": 1
   },
   "outputs": [],
   "source": [
    "def canHopToOtherChannel(currentChannel, currentSite):\n",
    "    '''\n",
    "    @ Args:    \n",
    "    > currentChannel, currentSite : the position of the motor    \n",
    "    @ Return:    \n",
    "    > bool, denotes if motor can jumo forward or not\n",
    "    \n",
    "    Check if motor can hop to other channel *directly* from current position.\n",
    "    '''    \n",
    "    currMotor = track[currentChannel][currentSite]  ### Get motor for current spot\n",
    "    \n",
    "    if not isinstance(currMotor, Motor): return False   ### No motor, no hop\n",
    "    \n",
    "    jumpChannels = [0, 1, 2]\n",
    "    jumpChannels.remove(currentChannel) # Remove current channel\n",
    "    \n",
    "    finalSite = currentSite + currMotor.hop * currMotor.direction ## direction sets backward or forward motion\n",
    "    \n",
    "    if finalSite >= numColumns or finalSite < 0:   ### Motor has the ability to jump out\n",
    "        return True # Can hop out => Move Ahead, so true  \n",
    "    \n",
    "    c1, c2 = jumpChannels   # Channels to jump into after removing current position\n",
    "    \n",
    "    channel1 = track[c1][finalSite]  ## We assume that to jump to other channel, we need not check anything in between \n",
    "    channel2 = track[c2][finalSite]    \n",
    "    return not(channel1 or channel2)"
   ]
  },
  {
   "cell_type": "markdown",
   "metadata": {},
   "source": [
    "### 3. `getFinalPosition` : Function to determine the final jump position of the motor"
   ]
  },
  {
   "cell_type": "code",
   "execution_count": 8,
   "metadata": {
    "lines_to_next_cell": 1
   },
   "outputs": [],
   "source": [
    "def getFinalPosition(currentChannel, currentSite, sameChannel = True):\n",
    "    '''\n",
    "    @Args : \n",
    "    > currentChannel, currentSite : the position of the motor\n",
    "    > sameChannel - if final position in same channel or different channel wanted\n",
    "    @Return :\n",
    "    > final position of the motor(int) or \"Exit\" - a special code denoting if motor needs to exit or not\n",
    "    \n",
    "    Gets the final position of the motor. Also determine if motor will exit or not\n",
    "    '''    \n",
    "    currMotor = track[currentChannel][currentSite]\n",
    "    \n",
    "    if not isinstance(currMotor, Motor): return False   ### No motor, no hop\n",
    "    \n",
    "    finalSite = currentSite + currMotor.hop * currMotor.direction\n",
    "    \n",
    "    if finalSite >= numColumns or finalSite < 0:     # Send 'Exit' if particle can get out of track\n",
    "        return \"Exit\"\n",
    "    else:\n",
    "        if sameChannel:\n",
    "            return (currentChannel, finalSite)    # Final position for Same Channel\n",
    "        else:\n",
    "            jumpChannels = [0, 1, 2]\n",
    "            jumpChannels.remove(currentChannel)    # Remove the current channel\n",
    "    \n",
    "            c1, c2 = permutation(jumpChannels)  ## Randomly permute the Channels\n",
    "            if not track[c1][finalSite]:\n",
    "                return (c1, finalSite)\n",
    "            else:\n",
    "                return (c2, finalSite)"
   ]
  },
  {
   "cell_type": "markdown",
   "metadata": {},
   "source": [
    "### 4. `jump` : Conducts the jump between _source_ and _destination_. If particle goes out, it discards it"
   ]
  },
  {
   "cell_type": "code",
   "execution_count": 9,
   "metadata": {
    "lines_to_next_cell": 1
   },
   "outputs": [],
   "source": [
    "def jump(sourceChannel, sourceSite, destination):\n",
    "    '''\n",
    "    @ Args:\n",
    "    > source - starting position of the motor\n",
    "    > destination - ending position of the motor,'Exit' if goes out, else tuple\n",
    "        containing final Channel to jump and final Site to jump to.\n",
    "    @ Return:\n",
    "    > None\n",
    "    \n",
    "    Conducts the jump between source and destination, if can Exit, throws motor out\n",
    "    ''' \n",
    "    motor = track[sourceChannel][sourceSite] # current motor\n",
    "    if destination == 'Exit' and isinstance(motor, Motor):\n",
    "        \n",
    "        track[sourceChannel][sourceSite] = vacancy # Set empty\n",
    "        \n",
    "        if motor.direction == forward:\n",
    "            # if forward, exit from right end\n",
    "            output_motor_right[motor.motorType] += 1\n",
    "        else:\n",
    "            output_motor_left[motor.motorType] += 1\n",
    "   \n",
    "        return          # If can exit, throw motor out\n",
    "    \n",
    "    finalChannel, finalSite = destination    # If not exiting\n",
    "    \n",
    "    track[sourceChannel][sourceSite], track[finalChannel][finalSite] = (\n",
    "        track[finalChannel][finalSite],\n",
    "        track[sourceChannel][sourceSite]) ## Swaping <==> hopping"
   ]
  },
  {
   "cell_type": "markdown",
   "metadata": {},
   "source": [
    "### 5. `step` : Takes the step for the motor. Whether to hopForward or change Channel or to go in Queue"
   ]
  },
  {
   "cell_type": "code",
   "execution_count": 10,
   "metadata": {
    "lines_to_next_cell": 1
   },
   "outputs": [],
   "source": [
    "def step(currentChannel, currentSite):\n",
    "    '''\n",
    "    @ Args :\n",
    "    currentChannel, currentSite - current position of the particle\n",
    "    @ Return :\n",
    "    > None\n",
    "    \n",
    "    Takes the necessary action for the particle. Whether to hop forward or shift channel or go in reservoir\n",
    "    '''\n",
    "    currMotor = track[currentChannel][currentSite]\n",
    "    if not isinstance(currMotor, Motor): return   ### No motor, no hop\n",
    "    \n",
    "    if canHopForwardSameChannel(currentChannel, currentSite):    # Go forward\n",
    "        \n",
    "        finalPosition = getFinalPosition(currentChannel, currentSite)  ## Exit or final destination in tuple\n",
    "        jump(currentChannel,\n",
    "             currentSite,\n",
    "             finalPosition)  \n",
    "        ## Jump to final position\n",
    "        \n",
    "    elif canHopToOtherChannel(currentChannel, currentSite):      # If obstacle, try to change lane\n",
    "        \n",
    "        finalPosition = getFinalPosition(currentChannel, currentSite, sameChannel = False)\n",
    "        jump(currentChannel,\n",
    "             currentSite,\n",
    "             finalPosition)       \n",
    "        \n",
    "    else: \n",
    "        queue[currentChannel][currentSite].append(track[currentChannel][currentSite])    \n",
    "                # In nothing happens, go in queue and wait for turn\n",
    "        track[currentChannel][currentSite] = vacancy  ## As motor in reservoir, make the position empty"
   ]
  },
  {
   "cell_type": "markdown",
   "metadata": {},
   "source": [
    "### 6. `queueStep` : Takes the step for the queued motors"
   ]
  },
  {
   "cell_type": "code",
   "execution_count": 11,
   "metadata": {},
   "outputs": [],
   "source": [
    "def queueToChannel(currentChannel, currentSite, channelToMove):\n",
    "    '''\n",
    "    @Args : \n",
    "    > currentChannel, currentSite - current Position of the motor\n",
    "    > channelToMove - The channel the motor will move into\n",
    "    \n",
    "    @Return :\n",
    "    > None\n",
    "    \n",
    "    Moves a motor from the reservoir to the main track. \n",
    "    We assume that a motor <!--cannot exit from the reservoir-->\n",
    "    '''    \n",
    "    motorToMove = queue[currentChannel][currentSite][0]   ### Motor which can be popped\n",
    "    \n",
    "    finalSite = currentSite + motorToMove.hop * motorToMove.direction   # get final site motor can jump to\n",
    "    \n",
    "    if not(finalSite >= numColumns and finalSite < 0): ### If stays in track\n",
    "        \n",
    "        motor = queue[currentChannel][currentSite].popleft()  # Get motor \n",
    "        track[channelToMove][finalSite] = motor  # Put motor in place"
   ]
  },
  {
   "cell_type": "markdown",
   "metadata": {},
   "source": [
    "### 7. `queueToSameSite` : Put motor from queue to same site but any channel in track"
   ]
  },
  {
   "cell_type": "code",
   "execution_count": 12,
   "metadata": {},
   "outputs": [],
   "source": [
    "def queueToSameSite(currentChannel, currentSite, same_channel, lateral_channel):\n",
    "    '''\n",
    "    @ Args :\n",
    "    > currentChannel, currentSite - current Position of the track\n",
    "    > same_channel - Threshold value for saying in the same channel\n",
    "    > lateral_channel - Threshold value for going to other channel\n",
    "    @ Return:\n",
    "    > True if successful, else False\n",
    "    \n",
    "    Puts a motor from reservoir to track. Motor can stay in the same site, but change channel\n",
    "    '''\n",
    "    \n",
    "    channels = [0, 1, 2]         # All channels\n",
    "    \n",
    "    finalSite = currentSite   ### Final site where the motor will end up\n",
    "    \n",
    "    p = random()    # For random channel selection\n",
    "\n",
    "    for channeltoMove in channels:\n",
    "        if track[channeltoMove][finalSite] == vacancy:    # Check if can go to channel\n",
    "\n",
    "            threshold = same_channel if (channeltoMove == currentChannel) else lateral_channel\n",
    "\n",
    "            if p > threshold:\n",
    "                track[channeltoMove][finalSite] = queue[currentChannel][currentSite].popleft()\n",
    "                return True\n",
    "\n",
    "    return False    # If None of this is possible"
   ]
  },
  {
   "cell_type": "markdown",
   "metadata": {
    "lines_to_next_cell": 1
   },
   "source": [
    "### 8. `queueStep` - Manages in and out from reservoir"
   ]
  },
  {
   "cell_type": "code",
   "execution_count": 13,
   "metadata": {
    "lines_to_next_cell": 1
   },
   "outputs": [],
   "source": [
    "def queueStep(currentChannel, currentSite):\n",
    "    '''\n",
    "    @ Args:\n",
    "    > currentChannel, currentSite : Current position from where we will pop out motor\n",
    "    @ Return:\n",
    "    > None\n",
    "    \n",
    "    Manages the movement of a motor from a reservoir to the main track'''\n",
    "    \n",
    "    lateral_channel = 0.45  ## Threshold values for channel change\n",
    "    same_channel = 0.55\n",
    "    \n",
    "    # Same site, different channel movement, if True return\n",
    "    if queueToSameSite(currentChannel, currentSite, same_channel, lateral_channel): \n",
    "        return  \n",
    "\n",
    "    # If HOP FORWARD in same or different channel, that is from reservoir to some site in front.\n",
    "    all_channels = permutation([0, 1, 2])        # Randomly permute\n",
    "\n",
    "    motorToEscape = queue[currentChannel][currentSite][0]   ### Motor to be moved\n",
    "    finalSite = currentSite  + motorToEscape.hop * motorToEscape.direction  # final position after jump\n",
    "    \n",
    "    p = random()    # Generate a random number\n",
    "    \n",
    "    for channel in all_channels:\n",
    "        if finalSite < numColumns and finalSite >= 0:   #Checks if exiting or not\n",
    "            if not any(track[channel][currentSite + 1  : finalSite + 1]):\n",
    "                threshold = same_channel if (channel == currentChannel) else lateral_channel\n",
    "                if p > threshold:\n",
    "                    queueToChannel(currentChannel, currentSite, channel)\n",
    "                    return"
   ]
  },
  {
   "cell_type": "markdown",
   "metadata": {},
   "source": [
    "## Simulation Codes"
   ]
  },
  {
   "cell_type": "code",
   "execution_count": 14,
   "metadata": {},
   "outputs": [],
   "source": [
    "def putInTrack(motor):\n",
    "    # Put motor of motorType in the track\n",
    "    \n",
    "    rows = permutation([0, 1, 2])\n",
    "\n",
    "    if motor.direction == forward:\n",
    "        for row in rows:\n",
    "            if track[row][0] == vacancy:\n",
    "                track[row][0] = motor\n",
    "                return 1    # If motor can be put, return 1. Useful for reducing counts\n",
    "            \n",
    "    else:\n",
    "        for row in rows:\n",
    "            if track[row][numColumns - 1] == vacancy:\n",
    "                track[row][numColumns - 1] = motor\n",
    "                return 1\n",
    "            \n",
    "    return 0 # If no motor can be put, then return 0"
   ]
  },
  {
   "cell_type": "code",
   "execution_count": 15,
   "metadata": {
    "lines_to_next_cell": 1
   },
   "outputs": [],
   "source": [
    "# Get count of all motors of a particular type in the track\n",
    "def count_motor(motor_array):\n",
    "    counts = np.array([0, 0, 0])\n",
    "    \n",
    "    for i in range(numRows):\n",
    "        for j in range(numColumns):\n",
    "            currMotor = motor_array[i][j]\n",
    "            if isinstance(currMotor, Motor):\n",
    "                if currMotor.motorType == motorA:\n",
    "                    counts[motorA] += 1\n",
    "                counts[motorB] += 1\n",
    "    return counts    "
   ]
  },
  {
   "cell_type": "code",
   "execution_count": 16,
   "metadata": {},
   "outputs": [],
   "source": [
    "def count_motor_reservoir(motor_array):\n",
    "    counts = np.array([0, 0, 0])\n",
    "    \n",
    "    for i in range(numRows):\n",
    "        for j in range(numColumns):\n",
    "            for element in motor_array[i][j]:                \n",
    "                if isinstance(element, Motor):\n",
    "                    if element.motorType == motorA:\n",
    "                        counts[motorA] += 1\n",
    "                    counts[motorB] += 1\n",
    "    return counts "
   ]
  },
  {
   "cell_type": "markdown",
   "metadata": {},
   "source": [
    "## Fill track\n",
    "Particles were added as per their rate here"
   ]
  },
  {
   "cell_type": "code",
   "execution_count": 17,
   "metadata": {},
   "outputs": [],
   "source": [
    "def getTrackToPlot(track):\n",
    "    track2plot = np.zeros((numRows, numColumns), dtype = np.uint8)\n",
    "    for i in range(numRows):\n",
    "        for j in range(numColumns):\n",
    "            if isinstance(track[i][j], Motor):\n",
    "                track2plot[i][j] = track[i][j].motorType\n",
    "    return track2plot            "
   ]
  },
  {
   "cell_type": "markdown",
   "metadata": {},
   "source": [
    "## Bidirectional Flow Site Selector\n",
    "For bidirectional flow, if we update sites like 1000 -> 999 -> 998 ... then backward flowing motors will move for each iteration. So they will exit the track and the plot will come out to be unidirectinal flow."
   ]
  },
  {
   "cell_type": "code",
   "execution_count": 18,
   "metadata": {},
   "outputs": [],
   "source": [
    "def getSiteUpdations(numCols):\n",
    "    '''Get site updations list'''\n",
    "    # get list of values till half of numColumns\n",
    "    values_list = list(range(numCols // 2 + 1))\n",
    "    sites_visiting_list = []\n",
    "    \n",
    "    for i in range(numCols): # For all sites\n",
    "        if i % 2 == 0:\n",
    "            sites_visiting_list.append(values_list[i // 2]) \n",
    "            ## Add the values of values_list sequentially\n",
    "            ## At every even position            \n",
    "        else:\n",
    "            ## At every odd position, append numCols - 1 - last Appended Value\n",
    "            sites_visiting_list.append(numCols - 1 - sites_visiting_list[-1])\n",
    "    return sites_visiting_list"
   ]
  },
  {
   "cell_type": "markdown",
   "metadata": {},
   "source": [
    "### Plotting Utilities"
   ]
  },
  {
   "cell_type": "code",
   "execution_count": 19,
   "metadata": {},
   "outputs": [],
   "source": [
    "def plotTrack(frameNumber):\n",
    "    '''Plotting Utility'''\n",
    "    \n",
    "    path = './Images_Bidirectional/'\n",
    "    folder_name = 'Images_Bidirectional'\n",
    "    \n",
    "    if not folder_name in os.listdir():\n",
    "        os.mkdir(folder_name)\n",
    "\n",
    "    track2plot = getTrackToPlot(track) # Gets track in terms of numpy array\n",
    "    \n",
    "    # Add functionalities\n",
    "    \n",
    "    plt.title(\"Track\")\n",
    "    plt.xlabel(\"Lattice Site\")\n",
    "    plt.ylabel(\"Channel\")\n",
    "    plt.yticks([0, 1, 2])\n",
    "    plt.pcolormesh(track2plot, cmap = 'Blues')\n",
    "    plt.savefig(path + \"track_\" + str(frameNumber) + \".png\")"
   ]
  },
  {
   "cell_type": "code",
   "execution_count": 20,
   "metadata": {},
   "outputs": [],
   "source": [
    "def simulate_model(n_epochs):\n",
    "    '''\n",
    "    Simulates the entire movements for \n",
    "    bidirectional model,\n",
    "    keeps track of counts of motors,\n",
    "    calls plotting utility.\n",
    "    \n",
    "    @ Args:\n",
    "        > n_epochs : (int) number of epochs the model runs.\n",
    "    @ Return:\n",
    "        > motorAparams : (list of dicts) motor A parameters for each epoch\n",
    "        > motorBparams : (list of dicts) motor B parameters for each epoch   \n",
    "    '''\n",
    "    # get site visiting list\n",
    "    sites_visiting_sequence = getSiteUpdations(numColumns) \n",
    "    # print(sites_visiting_sequence)\n",
    "    # frameNumber = 0\n",
    "    motorAparams, motorBparams = [], [] # List of dictionaries\n",
    "    \n",
    "    for epoch in range(n_epochs):\n",
    "        ## Put fwd motors as per their rate\n",
    "        # forward motors put in left end\n",
    "        if (epoch % rateMotorA == 0):\n",
    "            # Decrease count of the motors if non empty\n",
    "            if(input_motor_left[motorA] > 0):\n",
    "                input_motor_left[motorA] -= putInTrack(Motor(motorA, forward))  \n",
    "        if (epoch % rateMotorB == 0):\n",
    "            # Decrease count of the motors if non empty\n",
    "            if(input_motor_left[motorB] > 0):\n",
    "                input_motor_left[motorB] -= putInTrack(Motor(motorB, forward))\n",
    "            \n",
    "        ## Put bwd motors as per their rate\n",
    "        # backward motors put in right end\n",
    "        if (epoch % rateMotorA == 0):\n",
    "            # Decrease count of the motors if non empty\n",
    "            if(input_motor_right[motorA] > 0):\n",
    "                input_motor_right[motorA] -= putInTrack(Motor(motorA, backward))  \n",
    "        if (epoch % rateMotorB == 0): \n",
    "            # Decrease count of the motors if non empty\n",
    "            if(input_motor_right[motorB] > 0):\n",
    "                input_motor_right[motorB] -= putInTrack(Motor(motorB, backward))\n",
    "        \n",
    "        for site in sites_visiting_sequence:  \n",
    "            for channel in range(numRows):\n",
    "                \n",
    "                if track[channel][site] == vacancy:         \n",
    "                    # If we have empty track, then try dequeing\n",
    "                    if len(queue[channel][site]) !=  0:\n",
    "                        queueStep(channel, site)        \n",
    "                        # If nonempty queue, deque\n",
    "                \n",
    "                else:\n",
    "                    step(channel, site)             \n",
    "                    # If we have any motor, take a step. \n",
    "                    # Going into queue is taken care of here\n",
    "           \n",
    "        # ---------------------------------------------------------------------------------------\n",
    "        reservoir_counts = count_motor_reservoir(queue)\n",
    "        motor_counts = count_motor(track)\n",
    "        # ---------------------------------------------------------------------------------------\n",
    "        \n",
    "        ### Generate list of dictionaries for csv file\n",
    "\n",
    "        motorADict = {\n",
    "            'Epoch' : epoch,\n",
    "            'OnTrack': motor_counts[motorA],\n",
    "            'Input_Left' : input_motor_left[motorA],\n",
    "            'Input_Right' : input_motor_right[motorA],\n",
    "            'Reservoir' : reservoir_counts[motorA],\n",
    "            'Output_Left' : output_motor_left[motorA],\n",
    "            'Output_Right' : output_motor_right[motorA]\n",
    "        }\n",
    "\n",
    "        motorBDict = {\n",
    "            'Epoch' : epoch,\n",
    "            'OnTrack' : motor_counts[motorB],\n",
    "            'Input_Left' : input_motor_left[motorB],\n",
    "            'Input_Right' : input_motor_right[motorB],\n",
    "            'Reservoir' : reservoir_counts[motorB],\n",
    "            'Output_Left' : output_motor_left[motorB],\n",
    "            'Output_Right' : output_motor_right[motorB]\n",
    "        }\n",
    "#         print(output_motor_right)\n",
    "\n",
    "        ## Add to list\n",
    "        motorAparams.append(motorADict)\n",
    "        motorBparams.append(motorBDict)\n",
    "        \n",
    "                \n",
    "        # frameNumber += 1\n",
    "        # plotTrack(frameNumber) # Plotting\n",
    "        \n",
    "        # verification\n",
    "        if epoch % 50 == 0: print(f\"Epoch {epoch}\\tCounts {count_motor(track)}\")\n",
    "    return motorAparams, motorBparams"
   ]
  },
  {
   "cell_type": "markdown",
   "metadata": {},
   "source": [
    "### Generate GIF and Create `pcolor` plots"
   ]
  },
  {
   "cell_type": "code",
   "execution_count": 21,
   "metadata": {
    "tags": []
   },
   "outputs": [],
   "source": [
    "track = np.array(\n",
    "    [[vacancy] * numColumns] * numRows,\n",
    "    dtype = object)### Track is our model on which we place motors\n",
    "\n",
    "\n",
    "# Globals Simulation counts\n",
    "input_motor_left = np.array([0, 100, 100]) # Net 200 motors of each type\n",
    "input_motor_right = np.array([0, 100, 100])\n",
    "reservoir_counts = np.array([0, 0, 0])\n",
    "output_motor_left = np.array([0, 0, 0])\n",
    "output_motor_right = np.array([0, 0, 0])"
   ]
  },
  {
   "cell_type": "code",
   "execution_count": 22,
   "metadata": {
    "scrolled": false,
    "tags": []
   },
   "outputs": [
    {
     "name": "stdout",
     "output_type": "stream",
     "text": [
      "Epoch 0\tCounts [0 1 3]\n",
      "Epoch 50\tCounts [ 0 10 18]\n",
      "0.0007044339179992676\n"
     ]
    }
   ],
   "source": [
    "from time import time\n",
    "n_epochs = 100    #### The model is ran for 100 epochs here, \n",
    "start = time()\n",
    "\n",
    "motorA_Params, motorB_Params = simulate_model(n_epochs)\n",
    "               \n",
    "end=time()\n",
    "\n",
    "# Print run time\n",
    "print((end - start) / float(n_epochs))  ### Average time for one epoch"
   ]
  },
  {
   "cell_type": "code",
   "execution_count": 23,
   "metadata": {},
   "outputs": [
    {
     "data": {
      "text/plain": [
       "[{'Epoch': 95,\n",
       "  'OnTrack': 10,\n",
       "  'Input_Left': 80,\n",
       "  'Input_Right': 80,\n",
       "  'Reservoir': 0,\n",
       "  'Output_Left': 15,\n",
       "  'Output_Right': 15},\n",
       " {'Epoch': 96,\n",
       "  'OnTrack': 10,\n",
       "  'Input_Left': 80,\n",
       "  'Input_Right': 80,\n",
       "  'Reservoir': 0,\n",
       "  'Output_Left': 15,\n",
       "  'Output_Right': 15},\n",
       " {'Epoch': 97,\n",
       "  'OnTrack': 10,\n",
       "  'Input_Left': 80,\n",
       "  'Input_Right': 80,\n",
       "  'Reservoir': 0,\n",
       "  'Output_Left': 15,\n",
       "  'Output_Right': 15},\n",
       " {'Epoch': 98,\n",
       "  'OnTrack': 10,\n",
       "  'Input_Left': 80,\n",
       "  'Input_Right': 80,\n",
       "  'Reservoir': 0,\n",
       "  'Output_Left': 15,\n",
       "  'Output_Right': 15},\n",
       " {'Epoch': 99,\n",
       "  'OnTrack': 9,\n",
       "  'Input_Left': 80,\n",
       "  'Input_Right': 80,\n",
       "  'Reservoir': 0,\n",
       "  'Output_Left': 15,\n",
       "  'Output_Right': 16}]"
      ]
     },
     "execution_count": 23,
     "metadata": {},
     "output_type": "execute_result"
    }
   ],
   "source": [
    "motorA_Params[-5:]"
   ]
  },
  {
   "cell_type": "code",
   "execution_count": 24,
   "metadata": {},
   "outputs": [
    {
     "data": {
      "text/plain": [
       "array([ 0, 80, 66])"
      ]
     },
     "execution_count": 24,
     "metadata": {},
     "output_type": "execute_result"
    }
   ],
   "source": [
    "input_motor_left"
   ]
  },
  {
   "cell_type": "code",
   "execution_count": 25,
   "metadata": {},
   "outputs": [],
   "source": [
    "# CSV File\n",
    "import pandas as pd\n",
    "CSV_DIR = 'Bidirectional_Experiments'\n",
    "if(CSV_DIR not in os.listdir()):\n",
    "    os.mkdir(CSV_DIR)\n",
    "\n",
    "motorAData = pd.DataFrame(motorA_Params)\n",
    "motorBData = pd.DataFrame(motorB_Params)\n",
    "\n",
    "motorA_file_name = os.path.join(CSV_DIR,\n",
    "                                f'bidirectional_motorA_hop_{hopMotorA}_rate_{rateMotorA}.csv')\n",
    "\n",
    "motorB_file_name = os.path.join(CSV_DIR, \n",
    "                                f'bidirectional_motorB_hop_{hopMotorB}_rate_{rateMotorB}.csv')\n",
    "\n",
    "motorAData.to_csv(motorA_file_name, index=False)   ### Index is epoch number\n",
    "motorBData.to_csv(motorB_file_name, index=False)"
   ]
  },
  {
   "cell_type": "code",
   "execution_count": 26,
   "metadata": {},
   "outputs": [
    {
     "data": {
      "text/html": [
       "<div>\n",
       "<style scoped>\n",
       "    .dataframe tbody tr th:only-of-type {\n",
       "        vertical-align: middle;\n",
       "    }\n",
       "\n",
       "    .dataframe tbody tr th {\n",
       "        vertical-align: top;\n",
       "    }\n",
       "\n",
       "    .dataframe thead th {\n",
       "        text-align: right;\n",
       "    }\n",
       "</style>\n",
       "<table border=\"1\" class=\"dataframe\">\n",
       "  <thead>\n",
       "    <tr style=\"text-align: right;\">\n",
       "      <th></th>\n",
       "      <th>OnTrack</th>\n",
       "      <th>Input_Left</th>\n",
       "      <th>Input_Right</th>\n",
       "      <th>Reservoir</th>\n",
       "      <th>Output_Left</th>\n",
       "      <th>Output_Right</th>\n",
       "    </tr>\n",
       "    <tr>\n",
       "      <th>Epoch</th>\n",
       "      <th></th>\n",
       "      <th></th>\n",
       "      <th></th>\n",
       "      <th></th>\n",
       "      <th></th>\n",
       "      <th></th>\n",
       "    </tr>\n",
       "  </thead>\n",
       "  <tbody>\n",
       "    <tr>\n",
       "      <th>95</th>\n",
       "      <td>10</td>\n",
       "      <td>80</td>\n",
       "      <td>80</td>\n",
       "      <td>0</td>\n",
       "      <td>15</td>\n",
       "      <td>15</td>\n",
       "    </tr>\n",
       "    <tr>\n",
       "      <th>96</th>\n",
       "      <td>10</td>\n",
       "      <td>80</td>\n",
       "      <td>80</td>\n",
       "      <td>0</td>\n",
       "      <td>15</td>\n",
       "      <td>15</td>\n",
       "    </tr>\n",
       "    <tr>\n",
       "      <th>97</th>\n",
       "      <td>10</td>\n",
       "      <td>80</td>\n",
       "      <td>80</td>\n",
       "      <td>0</td>\n",
       "      <td>15</td>\n",
       "      <td>15</td>\n",
       "    </tr>\n",
       "    <tr>\n",
       "      <th>98</th>\n",
       "      <td>10</td>\n",
       "      <td>80</td>\n",
       "      <td>80</td>\n",
       "      <td>0</td>\n",
       "      <td>15</td>\n",
       "      <td>15</td>\n",
       "    </tr>\n",
       "    <tr>\n",
       "      <th>99</th>\n",
       "      <td>9</td>\n",
       "      <td>80</td>\n",
       "      <td>80</td>\n",
       "      <td>0</td>\n",
       "      <td>15</td>\n",
       "      <td>16</td>\n",
       "    </tr>\n",
       "  </tbody>\n",
       "</table>\n",
       "</div>"
      ],
      "text/plain": [
       "       OnTrack  Input_Left  Input_Right  Reservoir  Output_Left  Output_Right\n",
       "Epoch                                                                        \n",
       "95          10          80           80          0           15            15\n",
       "96          10          80           80          0           15            15\n",
       "97          10          80           80          0           15            15\n",
       "98          10          80           80          0           15            15\n",
       "99           9          80           80          0           15            16"
      ]
     },
     "execution_count": 26,
     "metadata": {},
     "output_type": "execute_result"
    }
   ],
   "source": [
    "df = pd.read_csv(motorA_file_name, index_col=0)\n",
    "df.tail()"
   ]
  },
  {
   "cell_type": "code",
   "execution_count": 27,
   "metadata": {},
   "outputs": [
    {
     "data": {
      "text/html": [
       "<div>\n",
       "<style scoped>\n",
       "    .dataframe tbody tr th:only-of-type {\n",
       "        vertical-align: middle;\n",
       "    }\n",
       "\n",
       "    .dataframe tbody tr th {\n",
       "        vertical-align: top;\n",
       "    }\n",
       "\n",
       "    .dataframe thead th {\n",
       "        text-align: right;\n",
       "    }\n",
       "</style>\n",
       "<table border=\"1\" class=\"dataframe\">\n",
       "  <thead>\n",
       "    <tr style=\"text-align: right;\">\n",
       "      <th></th>\n",
       "      <th>OnTrack</th>\n",
       "      <th>Input_Left</th>\n",
       "      <th>Input_Right</th>\n",
       "      <th>Reservoir</th>\n",
       "      <th>Output_Left</th>\n",
       "      <th>Output_Right</th>\n",
       "    </tr>\n",
       "    <tr>\n",
       "      <th>Epoch</th>\n",
       "      <th></th>\n",
       "      <th></th>\n",
       "      <th></th>\n",
       "      <th></th>\n",
       "      <th></th>\n",
       "      <th></th>\n",
       "    </tr>\n",
       "  </thead>\n",
       "  <tbody>\n",
       "    <tr>\n",
       "      <th>95</th>\n",
       "      <td>18</td>\n",
       "      <td>68</td>\n",
       "      <td>68</td>\n",
       "      <td>0</td>\n",
       "      <td>28</td>\n",
       "      <td>28</td>\n",
       "    </tr>\n",
       "    <tr>\n",
       "      <th>96</th>\n",
       "      <td>19</td>\n",
       "      <td>67</td>\n",
       "      <td>67</td>\n",
       "      <td>0</td>\n",
       "      <td>28</td>\n",
       "      <td>29</td>\n",
       "    </tr>\n",
       "    <tr>\n",
       "      <th>97</th>\n",
       "      <td>19</td>\n",
       "      <td>67</td>\n",
       "      <td>67</td>\n",
       "      <td>0</td>\n",
       "      <td>28</td>\n",
       "      <td>29</td>\n",
       "    </tr>\n",
       "    <tr>\n",
       "      <th>98</th>\n",
       "      <td>19</td>\n",
       "      <td>67</td>\n",
       "      <td>67</td>\n",
       "      <td>0</td>\n",
       "      <td>28</td>\n",
       "      <td>29</td>\n",
       "    </tr>\n",
       "    <tr>\n",
       "      <th>99</th>\n",
       "      <td>18</td>\n",
       "      <td>66</td>\n",
       "      <td>66</td>\n",
       "      <td>3</td>\n",
       "      <td>29</td>\n",
       "      <td>29</td>\n",
       "    </tr>\n",
       "  </tbody>\n",
       "</table>\n",
       "</div>"
      ],
      "text/plain": [
       "       OnTrack  Input_Left  Input_Right  Reservoir  Output_Left  Output_Right\n",
       "Epoch                                                                        \n",
       "95          18          68           68          0           28            28\n",
       "96          19          67           67          0           28            29\n",
       "97          19          67           67          0           28            29\n",
       "98          19          67           67          0           28            29\n",
       "99          18          66           66          3           29            29"
      ]
     },
     "execution_count": 27,
     "metadata": {},
     "output_type": "execute_result"
    }
   ],
   "source": [
    "df = pd.read_csv(motorB_file_name, index_col=0)\n",
    "df.tail()"
   ]
  }
 ],
 "metadata": {
  "jupytext": {
   "cell_metadata_filter": "-all",
   "main_language": "python",
   "notebook_metadata_filter": "-all"
  },
  "kernelspec": {
   "display_name": "Python 3",
   "language": "python",
   "name": "python3"
  },
  "language_info": {
   "codemirror_mode": {
    "name": "ipython",
    "version": 3
   },
   "file_extension": ".py",
   "mimetype": "text/x-python",
   "name": "python",
   "nbconvert_exporter": "python",
   "pygments_lexer": "ipython3",
   "version": "3.6.9"
  }
 },
 "nbformat": 4,
 "nbformat_minor": 4
}
